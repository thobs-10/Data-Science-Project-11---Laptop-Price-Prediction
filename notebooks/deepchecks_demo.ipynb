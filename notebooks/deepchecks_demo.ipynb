{
 "cells": [
  {
   "cell_type": "code",
   "execution_count": 1,
   "metadata": {},
   "outputs": [
    {
     "name": "stdout",
     "output_type": "stream",
     "text": [
      "\u001b[1;35mSetting the repo active workspace to 'default'.\u001b[0m\n",
      "\u001b[33mSetting the repo active stack to default.\u001b[0m\n",
      "ZenML repository initialized at c:\\Users\\Cash Crusaders\\Desktop\\My \n",
      "Portfolio\\Projects\\Data Science Projects\\Data Science Project 11 - Laptop Price\n",
      "Prediction.\n",
      "The local active stack was initialized to 'default'. This local configuration \n",
      "will only take effect when you're running ZenML from the initialized repository\n",
      "root, or from a subdirectory. For more information on repositories and \n",
      "configurations, please visit \n",
      "https://docs.zenml.io/starter-guide/stacks/managing-stacks.\n"
     ]
    }
   ],
   "source": [
    "# Initialize a ZenML repository\n",
    "!zenml init"
   ]
  },
  {
   "cell_type": "code",
   "execution_count": 2,
   "metadata": {},
   "outputs": [
    {
     "name": "stdout",
     "output_type": "stream",
     "text": [
      "Using the default local database.\n",
      "Running with active workspace: 'default' (repository)\n",
      "┌───────┬───────┬───────┬───────┬───────┬───────┬──────┬───────┬──────┬───────┐\n",
      "│       │       │       │       │       │       │      │       │ EXPE │       │\n",
      "│       │       │       │       │       │       │ ARTI │       │ RIME │       │\n",
      "│       │       │       │       │       │ ORCHE │ FACT │ MODEL │ NT_T │ DATA_ │\n",
      "│ ACTIV │ STACK │ STACK │ SHARE │       │ STRAT │ _STO │ _DEPL │ RACK │ VALID │\n",
      "│   E   │ NAME  │ ID    │ D     │ OWNER │ OR    │ RE   │ OYER  │ ER   │ ATOR  │\n",
      "├───────┼───────┼───────┼───────┼───────┼───────┼──────┼───────┼──────┼───────┤\n",
      "│  👉   │ defau │ a541d │ ➖    │ defau │ defau │ defa │       │      │       │\n",
      "│       │ lt    │ 9f9-7 │       │ lt    │ lt    │ ult  │       │      │       │\n",
      "│       │       │ 653-4 │       │       │       │      │       │      │       │\n",
      "│       │       │ 1dd-a │       │       │       │      │       │      │       │\n",
      "│       │       │ 4f3-a │       │       │       │      │       │      │       │\n",
      "│       │       │ a2bcd │       │       │       │      │       │      │       │\n",
      "│       │       │ 3ccf4 │       │       │       │      │       │      │       │\n",
      "│       │       │ 9     │       │       │       │      │       │      │       │\n",
      "├───────┼───────┼───────┼───────┼───────┼───────┼──────┼───────┼──────┼───────┤\n",
      "│       │ quick │ e0f41 │ ➖    │ defau │ defau │ defa │ mlflo │ mlfl │ evide │\n",
      "│       │ start │ 455-e │       │ lt    │ lt    │ ult  │ w_dep │ ow_t │ ntly_ │\n",
      "│       │ _stac │ ced-4 │       │       │       │      │ loyer │ rack │ data_ │\n",
      "│       │ k     │ f29-8 │       │       │       │      │       │ er   │ valid │\n",
      "│       │       │ ae8-f │       │       │       │      │       │      │ ator  │\n",
      "│       │       │ 59e97 │       │       │       │      │       │      │       │\n",
      "│       │       │ db350 │       │       │       │      │       │      │       │\n",
      "│       │       │ 6     │       │       │       │      │       │      │       │\n",
      "├───────┼───────┼───────┼───────┼───────┼───────┼──────┼───────┼──────┼───────┤\n",
      "│       │ car_p │ 0804e │ ➖    │ defau │ local │ defa │       │      │       │\n",
      "│       │ rice_ │ a53-8 │       │ lt    │ _airf │ ult  │       │      │       │\n",
      "│       │ workf │ 6d2-4 │       │       │ low   │      │       │      │       │\n",
      "│       │ low   │ bd9-b │       │       │       │      │       │      │       │\n",
      "│       │       │ 267-2 │       │       │       │      │       │      │       │\n",
      "│       │       │ 9ba61 │       │       │       │      │       │      │       │\n",
      "│       │       │ 5eb11 │       │       │       │      │       │      │       │\n",
      "│       │       │ 1     │       │       │       │      │       │      │       │\n",
      "├───────┼───────┼───────┼───────┼───────┼───────┼──────┼───────┼──────┼───────┤\n",
      "│       │ airfl │ 38983 │ ➖    │ defau │ local │ defa │       │      │       │\n",
      "│       │ ow_or │ 687-9 │       │ lt    │ _data │ ult  │       │      │       │\n",
      "│       │ chest │ 453-4 │       │       │ _airf │      │       │      │       │\n",
      "│       │ rator │ 890-a │       │       │ low   │      │       │      │       │\n",
      "│       │       │ 62c-b │       │       │       │      │       │      │       │\n",
      "│       │       │ 0e928 │       │       │       │      │       │      │       │\n",
      "│       │       │ c5751 │       │       │       │      │       │      │       │\n",
      "│       │       │ 2     │       │       │       │      │       │      │       │\n",
      "├───────┼───────┼───────┼───────┼───────┼───────┼──────┼───────┼──────┼───────┤\n",
      "│       │ end_t │ 55c6c │ ➖    │ defau │ defau │ defa │ mlflo │ mlfl │ deepc │\n",
      "│       │ o_end │ ee1-0 │       │ lt    │ lt    │ ult  │ w_dep │ ow_t │ hecks │\n",
      "│       │ _v1   │ 0c3-4 │       │       │       │      │ loyer │ rack │ _data │\n",
      "│       │       │ 325-a │       │       │       │      │       │ er   │ _vali │\n",
      "│       │       │ 2dd-2 │       │       │       │      │       │      │ dator │\n",
      "│       │       │ dc3c8 │       │       │       │      │       │      │       │\n",
      "│       │       │ 3e405 │       │       │       │      │       │      │       │\n",
      "│       │       │ 0     │       │       │       │      │       │      │       │\n",
      "└───────┴───────┴───────┴───────┴───────┴───────┴──────┴───────┴──────┴───────┘\n",
      "Page `(1/1)`, `5` items found for the applied filters.\n"
     ]
    }
   ],
   "source": [
    "!zenml stack list"
   ]
  },
  {
   "cell_type": "code",
   "execution_count": 6,
   "metadata": {},
   "outputs": [
    {
     "name": "stdout",
     "output_type": "stream",
     "text": [
      "Usage: zenml integration install [OPTIONS] [INTEGRATIONS]...\n",
      "\n",
      "  Install the required packages for the integration of choice.\n",
      "\n",
      "Options:\n",
      "  -i, --ignore-integration TEXT  List of integrations to ignore explicitly.\n",
      "  -y, --yes                      Force the installation of the required\n",
      "                                 packages. This will skip the confirmation\n",
      "                                 step and reinstall existing packages as well\n",
      "  --help                         Show this message and exit.\n"
     ]
    }
   ],
   "source": [
    "!zenml integration install --help"
   ]
  },
  {
   "cell_type": "code",
   "execution_count": null,
   "metadata": {},
   "outputs": [],
   "source": [
    "!zenml data-validator register deepchecks -f deepchecks\n",
    "!zenml stack register deepchecks_stack -o default -a default -dv deepchecks --set"
   ]
  },
  {
   "cell_type": "code",
   "execution_count": null,
   "metadata": {},
   "outputs": [],
   "source": []
  },
  {
   "cell_type": "code",
   "execution_count": null,
   "metadata": {},
   "outputs": [],
   "source": []
  },
  {
   "cell_type": "code",
   "execution_count": null,
   "metadata": {},
   "outputs": [],
   "source": []
  },
  {
   "cell_type": "code",
   "execution_count": null,
   "metadata": {},
   "outputs": [],
   "source": []
  },
  {
   "cell_type": "code",
   "execution_count": null,
   "metadata": {},
   "outputs": [],
   "source": []
  }
 ],
 "metadata": {
  "kernelspec": {
   "display_name": "machine-learning-env",
   "language": "python",
   "name": "python3"
  },
  "language_info": {
   "codemirror_mode": {
    "name": "ipython",
    "version": 3
   },
   "file_extension": ".py",
   "mimetype": "text/x-python",
   "name": "python",
   "nbconvert_exporter": "python",
   "pygments_lexer": "ipython3",
   "version": "3.10.8"
  },
  "orig_nbformat": 4
 },
 "nbformat": 4,
 "nbformat_minor": 2
}
