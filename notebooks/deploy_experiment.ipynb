{
 "cells": [
  {
   "cell_type": "code",
   "execution_count": 1,
   "metadata": {},
   "outputs": [],
   "source": [
    "import numpy as np\n",
    "import pandas as pd\n",
    "import pickle\n",
    "import mlflow\n",
    "import sklearn\n",
    "from datetime import datetime\n",
    "from sklearn.compose import ColumnTransformer\n",
    "from sklearn.pipeline import Pipeline\n",
    "from sklearn.preprocessing import OneHotEncoder\n",
    "\n",
    "import mlflow\n",
    "from mlflow.entities import ViewType\n",
    "from mlflow.tracking import MlflowClient\n",
    "\n",
    "import sklearn\n",
    "from sklearn.metrics import r2_score,mean_squared_error"
   ]
  },
  {
   "cell_type": "code",
   "execution_count": 2,
   "metadata": {},
   "outputs": [],
   "source": [
    "X_train = pd.read_parquet(\"C:\\\\Users\\\\Cash Crusaders\\\\Desktop\\\\My Portfolio\\\\Projects\\\\Data Science Projects\\\\Data Science Project 11 - Laptop Price Prediction\\\\dataset\\\\feature_engineered_data\\\\X_train_df.parquet.gzip\")\n",
    "X_test = pd.read_parquet(\"C:\\\\Users\\\\Cash Crusaders\\\\Desktop\\\\My Portfolio\\\\Projects\\\\Data Science Projects\\\\Data Science Project 11 - Laptop Price Prediction\\\\dataset\\\\feature_engineered_data\\\\X_test_df.parquet\")\n",
    "y_train = pd.read_csv(\"C:\\\\Users\\\\Cash Crusaders\\\\Desktop\\\\My Portfolio\\\\Projects\\\\Data Science Projects\\\\Data Science Project 11 - Laptop Price Prediction\\\\dataset\\\\feature_engineered_data\\\\y_train_df.csv\")\n",
    "y_test = pd.read_csv(\"C:\\\\Users\\\\Cash Crusaders\\\\Desktop\\\\My Portfolio\\\\Projects\\\\Data Science Projects\\\\Data Science Project 11 - Laptop Price Prediction\\\\dataset\\\\feature_engineered_data\\\\y_test_df.csv\")\n"
   ]
  },
  {
   "cell_type": "code",
   "execution_count": 3,
   "metadata": {},
   "outputs": [],
   "source": [
    "X_train.drop(columns=['Unnamed: 0'],inplace=True)\n",
    "X_train.drop(columns=['Cpu'],inplace=True)\n",
    "X_train.drop(columns=['Gpu'],inplace=True)\n",
    "X_train.drop(columns=['Cpu Name'],inplace=True)\n",
    "y_train.drop(columns=['Unnamed: 0'],inplace=True)"
   ]
  },
  {
   "cell_type": "code",
   "execution_count": 4,
   "metadata": {},
   "outputs": [],
   "source": [
    "X_test.drop(columns=['Unnamed: 0'],inplace=True)\n",
    "X_test.drop(columns=['Cpu'],inplace=True)\n",
    "X_test.drop(columns=['Gpu'],inplace=True)\n",
    "X_test.drop(columns=['Cpu Name'],inplace=True)\n",
    "y_test.drop(columns=['Unnamed: 0'],inplace=True)"
   ]
  },
  {
   "cell_type": "code",
   "execution_count": 6,
   "metadata": {},
   "outputs": [],
   "source": [
    "MLFLOW_TRACKING_URI = \"sqlite:///demo.db\"\n",
    "prod_stage=\"Production\"\n",
    "staging_stage = \"Staging\"\n",
    "model_name =\"laptop-price-demo\"\n",
    "mlflow.set_tracking_uri(\"http://127.0.0.1:5000\")\n"
   ]
  },
  {
   "cell_type": "code",
   "execution_count": 7,
   "metadata": {},
   "outputs": [
    {
     "name": "stdout",
     "output_type": "stream",
     "text": [
      "The model is present we can use it\n"
     ]
    }
   ],
   "source": [
    "# try -catch exception clause\n",
    "try:\n",
    "    model = mlflow.pyfunc.load_model(f\"models:/{model_name}/{prod_stage}\")\n",
    "except mlflow.MlflowException:\n",
    "    print(\"There is no such model or model version in MLFlow production registry\")\n",
    "else:\n",
    "    print(\"The model is present we can use it\")\n"
   ]
  },
  {
   "cell_type": "code",
   "execution_count": 8,
   "metadata": {},
   "outputs": [
    {
     "data": {
      "text/html": [
       "<div>\n",
       "<style scoped>\n",
       "    .dataframe tbody tr th:only-of-type {\n",
       "        vertical-align: middle;\n",
       "    }\n",
       "\n",
       "    .dataframe tbody tr th {\n",
       "        vertical-align: top;\n",
       "    }\n",
       "\n",
       "    .dataframe thead th {\n",
       "        text-align: right;\n",
       "    }\n",
       "</style>\n",
       "<table border=\"1\" class=\"dataframe\">\n",
       "  <thead>\n",
       "    <tr style=\"text-align: right;\">\n",
       "      <th></th>\n",
       "      <th>Company</th>\n",
       "      <th>TypeName</th>\n",
       "      <th>Ram</th>\n",
       "      <th>Weight</th>\n",
       "      <th>Touchscreen</th>\n",
       "      <th>Ips</th>\n",
       "      <th>ppi</th>\n",
       "      <th>Cpu brand</th>\n",
       "      <th>HDD</th>\n",
       "      <th>SSD</th>\n",
       "      <th>Gpu brand</th>\n",
       "      <th>os</th>\n",
       "    </tr>\n",
       "  </thead>\n",
       "  <tbody>\n",
       "    <tr>\n",
       "      <th>1259</th>\n",
       "      <td>MSI</td>\n",
       "      <td>Gaming</td>\n",
       "      <td>8</td>\n",
       "      <td>2.4</td>\n",
       "      <td>0</td>\n",
       "      <td>0</td>\n",
       "      <td>141.211998</td>\n",
       "      <td>Intel Core i7</td>\n",
       "      <td>1000</td>\n",
       "      <td>128</td>\n",
       "      <td>Nvidia</td>\n",
       "      <td>Windows</td>\n",
       "    </tr>\n",
       "  </tbody>\n",
       "</table>\n",
       "</div>"
      ],
      "text/plain": [
       "     Company TypeName  Ram  Weight  Touchscreen  Ips         ppi  \\\n",
       "1259     MSI   Gaming    8     2.4            0    0  141.211998   \n",
       "\n",
       "          Cpu brand   HDD  SSD Gpu brand       os  \n",
       "1259  Intel Core i7  1000  128    Nvidia  Windows  "
      ]
     },
     "execution_count": 8,
     "metadata": {},
     "output_type": "execute_result"
    }
   ],
   "source": [
    "X_train.head(1)"
   ]
  },
  {
   "cell_type": "code",
   "execution_count": 53,
   "metadata": {},
   "outputs": [],
   "source": [
    "column_transformer = ColumnTransformer(transformers=[\n",
    "    ('col_tnf',OneHotEncoder(sparse=False,drop='first'),[0,1,7,10,11])\n",
    "],remainder='passthrough')\n",
    "X_train_tranformed = column_transformer.fit_transform(X_train)\n",
    "X_val_tranformed = column_transformer.transform(X_test)"
   ]
  },
  {
   "cell_type": "code",
   "execution_count": 56,
   "metadata": {},
   "outputs": [
    {
     "data": {
      "text/plain": [
       "(1041, 38)"
      ]
     },
     "execution_count": 56,
     "metadata": {},
     "output_type": "execute_result"
    }
   ],
   "source": [
    "X_train_tranformed.shape"
   ]
  },
  {
   "cell_type": "code",
   "execution_count": 44,
   "metadata": {},
   "outputs": [
    {
     "data": {
      "text/plain": [
       "(261, 38)"
      ]
     },
     "execution_count": 44,
     "metadata": {},
     "output_type": "execute_result"
    }
   ],
   "source": [
    "X_val_tranformed.shape"
   ]
  },
  {
   "cell_type": "code",
   "execution_count": 45,
   "metadata": {},
   "outputs": [
    {
     "data": {
      "text/plain": [
       "(1041, 38)"
      ]
     },
     "execution_count": 45,
     "metadata": {},
     "output_type": "execute_result"
    }
   ],
   "source": [
    "X_train_tranformed.shape"
   ]
  },
  {
   "cell_type": "code",
   "execution_count": null,
   "metadata": {},
   "outputs": [],
   "source": [
    "y_pred = model.predict(X_test)"
   ]
  },
  {
   "cell_type": "code",
   "execution_count": 15,
   "metadata": {},
   "outputs": [
    {
     "data": {
      "text/plain": [
       "0.8836828236626981"
      ]
     },
     "execution_count": 15,
     "metadata": {},
     "output_type": "execute_result"
    }
   ],
   "source": [
    "r2_score(y_test, y_pred)"
   ]
  },
  {
   "cell_type": "code",
   "execution_count": null,
   "metadata": {},
   "outputs": [],
   "source": []
  },
  {
   "cell_type": "code",
   "execution_count": null,
   "metadata": {},
   "outputs": [],
   "source": [
    "\"./mlruns/2/128731dce22e4a06bed20def94cf81db/artifacts/model/model.pkl\""
   ]
  },
  {
   "cell_type": "code",
   "execution_count": 9,
   "metadata": {},
   "outputs": [],
   "source": [
    "def test_model(model_name, stage, X_val, y_val):\n",
    "    model = mlflow.pyfunc.load_model(f\"models:/{model_name}/{stage}\")\n",
    "    y_pred = model.predict(X_val)\n",
    "    return r2_score(y_val, y_pred), model"
   ]
  },
  {
   "cell_type": "code",
   "execution_count": 10,
   "metadata": {},
   "outputs": [],
   "source": [
    "r2, model = test_model(model_name, \"Production\", X_test, y_test)"
   ]
  },
  {
   "cell_type": "code",
   "execution_count": 11,
   "metadata": {},
   "outputs": [
    {
     "name": "stdout",
     "output_type": "stream",
     "text": [
      "R2 score : 0.8836828236626981\n"
     ]
    }
   ],
   "source": [
    "print(f\"R2 score : {r2}\")"
   ]
  },
  {
   "cell_type": "code",
   "execution_count": 12,
   "metadata": {},
   "outputs": [],
   "source": [
    "def model_evaluator(\n",
    "    X_train : pd.DataFrame,\n",
    "    X_val: pd.DataFrame,\n",
    "    y_val : pd.DataFrame,\n",
    "):\n",
    "    \"\"\"Calculate the the R2 of the model \"\"\"\n",
    "\n",
    "    # column_transformer = ColumnTransformer(transformers=[\n",
    "    #         ('col_tnf',OneHotEncoder(sparse=False,drop='first'),[0,1,7,10,11])\n",
    "    #     ],remainder='passthrough')\n",
    "    # X_train_tranformed = column_transformer.fit_transform(X_train)\n",
    "    # X_val_tranformed = column_transformer.transform(X_val)\n",
    "\n",
    "    model_name = \"laptop-price-demo\"\n",
    "    prod_model = mlflow.pyfunc.load_model(f\"models:/{model_name}/{prod_stage}\")\n",
    "    prod_model_r2_score, model = test_model(model_name=model_name, stage=\"Production\", X_val=X_val, y_val=y_val)\n",
    "    return prod_model_r2_score, model\n",
    "    # try:\n",
    "    #     prod_model = mlflow.pyfunc.load_model(f\"models:/{model_name}/{prod_stage}\")\n",
    "\n",
    "    # except mlflow.MlflowException:\n",
    "    #     print(\"There is no such model or model version in MLFlow production registry\")\n",
    "    #     # registering the fresh new model from staging to production stage \n",
    "    #     client = MlflowClient(tracking_uri=MLFLOW_TRACKING_URI)\n",
    "    #     latest_versions = client.get_latest_versions(name=model_name)\n",
    "\n",
    "    #     for version in latest_versions:\n",
    "    #         model_version = version.version\n",
    "        \n",
    "    #     new_stage = \"Production\"\n",
    "    #     client.transition_model_version_stage(\n",
    "    #         name=model_name,\n",
    "    #         version=model_version,\n",
    "    #         stage=new_stage,\n",
    "    #         archive_existing_versions=True\n",
    "    #     )\n",
    "        \n",
    "    #     # update the mlflow client\n",
    "    #     date = datetime.today().date()\n",
    "    #     client.update_model_version(\n",
    "    #         name=model_name,\n",
    "    #         version=model_version,\n",
    "    #         description=f\"The model version {model_version} was transitioned to {new_stage} on {date}\"\n",
    "    #     )\n",
    "    #     print(f\"The new model version of {model_name} has been placed in production stage\")\n",
    "    #     # prod_model_r2_score, model = test_model(model_name=model_name, stage=\"Production\", X_val=X_val_tranformed, y_val=y_val)\n",
    "    #     #return prod_model_r2_score, model\n",
    "        \n",
    "    # else:\n",
    "    #     print(\"The model is present we can use it\")\n",
    "    #     # production model\n",
    "    #     prod_r2_score, model = test_model(name=model_name, stage=\"Production\", X_val=X_val_tranformed, y_val=y_val)\n",
    "    #     # staging Model\n",
    "    #     staging_r2_score, model = test_model(name=model_name, stage=\"Staging\", X_val=X_val_tranformed, y_val=y_val)\n",
    "    #     if staging_r2_score < prod_r2_score:\n",
    "    #         # continue as normal\n",
    "    #         print(\"The production model is performing good. Leave it!\")\n",
    "    #         pass\n",
    "    #     else:\n",
    "    #         # registering the fresh new model into production\n",
    "    #         client = MlflowClient(tracking_uri=MLFLOW_TRACKING_URI)\n",
    "    #         latest_versions = client.get_latest_versions(name=model_name)\n",
    "\n",
    "    #         for version in latest_versions:\n",
    "    #             model_version = version.version\n",
    "            \n",
    "    #         new_stage = \"Production\"\n",
    "    #         client.transition_model_version_stage(\n",
    "    #             name=model_name,\n",
    "    #             version=model_version,\n",
    "    #             stage=new_stage,\n",
    "    #             archive_existing_versions=True\n",
    "    #         )\n",
    "            \n",
    "    #         # update the mlflow client\n",
    "    #         date = datetime.today().date()\n",
    "    #         client.update_model_version(\n",
    "    #             name=model_name,\n",
    "    #             version=model_version,\n",
    "    #             description=f\"The model version {model_version} was transitioned to {new_stage} on {date}\"\n",
    "    #         )\n",
    "    #     # prod_model_r2_score, model = test_model(name=model_name, stage=\"Production\", X_val=X_val_tranformed, y_val=y_val)\n",
    "    #     #return prod_model_r2_score, model\n",
    "    # prod_model_r2_score, model = test_model(model_name=model_name, stage=\"Production\", X_val=X_val_tranformed, y_val=y_val)\n",
    "    # # return prod_model_r2_score, model"
   ]
  },
  {
   "cell_type": "code",
   "execution_count": 13,
   "metadata": {},
   "outputs": [],
   "source": [
    "r2, model = model_evaluator(X_train, X_test, y_test)"
   ]
  },
  {
   "cell_type": "code",
   "execution_count": 14,
   "metadata": {},
   "outputs": [
    {
     "name": "stdout",
     "output_type": "stream",
     "text": [
      "Evaluation R2 score : 0.8836828236626981\n"
     ]
    }
   ],
   "source": [
    "print(f\"Evaluation R2 score : {r2}\")"
   ]
  },
  {
   "cell_type": "code",
   "execution_count": 62,
   "metadata": {},
   "outputs": [
    {
     "data": {
      "text/html": [
       "<div>\n",
       "<style scoped>\n",
       "    .dataframe tbody tr th:only-of-type {\n",
       "        vertical-align: middle;\n",
       "    }\n",
       "\n",
       "    .dataframe tbody tr th {\n",
       "        vertical-align: top;\n",
       "    }\n",
       "\n",
       "    .dataframe thead th {\n",
       "        text-align: right;\n",
       "    }\n",
       "</style>\n",
       "<table border=\"1\" class=\"dataframe\">\n",
       "  <thead>\n",
       "    <tr style=\"text-align: right;\">\n",
       "      <th></th>\n",
       "      <th>Company</th>\n",
       "      <th>TypeName</th>\n",
       "      <th>Ram</th>\n",
       "      <th>Weight</th>\n",
       "      <th>Touchscreen</th>\n",
       "      <th>Ips</th>\n",
       "      <th>ppi</th>\n",
       "      <th>Cpu brand</th>\n",
       "      <th>HDD</th>\n",
       "      <th>SSD</th>\n",
       "      <th>Gpu brand</th>\n",
       "      <th>os</th>\n",
       "    </tr>\n",
       "  </thead>\n",
       "  <tbody>\n",
       "    <tr>\n",
       "      <th>1233</th>\n",
       "      <td>MSI</td>\n",
       "      <td>Gaming</td>\n",
       "      <td>16</td>\n",
       "      <td>2.70</td>\n",
       "      <td>0</td>\n",
       "      <td>0</td>\n",
       "      <td>127.335675</td>\n",
       "      <td>Intel Core i7</td>\n",
       "      <td>1000</td>\n",
       "      <td>256</td>\n",
       "      <td>Nvidia</td>\n",
       "      <td>Windows</td>\n",
       "    </tr>\n",
       "    <tr>\n",
       "      <th>1030</th>\n",
       "      <td>HP</td>\n",
       "      <td>Notebook</td>\n",
       "      <td>4</td>\n",
       "      <td>1.64</td>\n",
       "      <td>0</td>\n",
       "      <td>0</td>\n",
       "      <td>111.935204</td>\n",
       "      <td>Intel Core i5</td>\n",
       "      <td>0</td>\n",
       "      <td>256</td>\n",
       "      <td>Intel</td>\n",
       "      <td>Windows</td>\n",
       "    </tr>\n",
       "    <tr>\n",
       "      <th>163</th>\n",
       "      <td>Lenovo</td>\n",
       "      <td>Gaming</td>\n",
       "      <td>16</td>\n",
       "      <td>2.50</td>\n",
       "      <td>0</td>\n",
       "      <td>1</td>\n",
       "      <td>141.211998</td>\n",
       "      <td>Intel Core i7</td>\n",
       "      <td>0</td>\n",
       "      <td>256</td>\n",
       "      <td>Nvidia</td>\n",
       "      <td>Windows</td>\n",
       "    </tr>\n",
       "    <tr>\n",
       "      <th>1012</th>\n",
       "      <td>HP</td>\n",
       "      <td>Notebook</td>\n",
       "      <td>4</td>\n",
       "      <td>1.48</td>\n",
       "      <td>0</td>\n",
       "      <td>0</td>\n",
       "      <td>157.350512</td>\n",
       "      <td>Intel Core i5</td>\n",
       "      <td>0</td>\n",
       "      <td>256</td>\n",
       "      <td>Intel</td>\n",
       "      <td>Windows</td>\n",
       "    </tr>\n",
       "    <tr>\n",
       "      <th>711</th>\n",
       "      <td>Dell</td>\n",
       "      <td>Notebook</td>\n",
       "      <td>8</td>\n",
       "      <td>1.64</td>\n",
       "      <td>0</td>\n",
       "      <td>0</td>\n",
       "      <td>157.350512</td>\n",
       "      <td>Intel Core i5</td>\n",
       "      <td>0</td>\n",
       "      <td>256</td>\n",
       "      <td>Nvidia</td>\n",
       "      <td>Others/No OS/Linux</td>\n",
       "    </tr>\n",
       "  </tbody>\n",
       "</table>\n",
       "</div>"
      ],
      "text/plain": [
       "     Company  TypeName  Ram  Weight  Touchscreen  Ips         ppi  \\\n",
       "1233     MSI    Gaming   16    2.70            0    0  127.335675   \n",
       "1030      HP  Notebook    4    1.64            0    0  111.935204   \n",
       "163   Lenovo    Gaming   16    2.50            0    1  141.211998   \n",
       "1012      HP  Notebook    4    1.48            0    0  157.350512   \n",
       "711     Dell  Notebook    8    1.64            0    0  157.350512   \n",
       "\n",
       "          Cpu brand   HDD  SSD Gpu brand                  os  \n",
       "1233  Intel Core i7  1000  256    Nvidia             Windows  \n",
       "1030  Intel Core i5     0  256     Intel             Windows  \n",
       "163   Intel Core i7     0  256    Nvidia             Windows  \n",
       "1012  Intel Core i5     0  256     Intel             Windows  \n",
       "711   Intel Core i5     0  256    Nvidia  Others/No OS/Linux  "
      ]
     },
     "execution_count": 62,
     "metadata": {},
     "output_type": "execute_result"
    }
   ],
   "source": [
    "X_test.head()"
   ]
  },
  {
   "cell_type": "code",
   "execution_count": 34,
   "metadata": {},
   "outputs": [],
   "source": [
    "\n",
    "    \n",
    "MLFLOW_TRACKING_URI = \"http://127.0.0.1:5000\""
   ]
  },
  {
   "cell_type": "code",
   "execution_count": 35,
   "metadata": {},
   "outputs": [],
   "source": [
    "mlflow.set_tracking_uri(MLFLOW_TRACKING_URI)\n",
    "model_name = \"laptop-price-model\"\n",
    "stage = \"Staging\""
   ]
  },
  {
   "cell_type": "code",
   "execution_count": 36,
   "metadata": {},
   "outputs": [],
   "source": [
    "from mlflow.tracking import MlflowClient"
   ]
  },
  {
   "cell_type": "code",
   "execution_count": 37,
   "metadata": {},
   "outputs": [],
   "source": [
    "client = MlflowClient()\n",
    "# retrieve the top_n model runs and log the models to MLflow\n",
    "experiment = client.get_experiment_by_name(\"hyper-optimization-experiment-1\")"
   ]
  },
  {
   "cell_type": "code",
   "execution_count": 38,
   "metadata": {},
   "outputs": [
    {
     "data": {
      "text/plain": [
       "'2'"
      ]
     },
     "execution_count": 38,
     "metadata": {},
     "output_type": "execute_result"
    }
   ],
   "source": [
    "experiment.experiment_id"
   ]
  },
  {
   "cell_type": "code",
   "execution_count": 33,
   "metadata": {},
   "outputs": [
    {
     "ename": "OSError",
     "evalue": "No such file or directory: '.\\mlruns\\2\\ff252e28434f45408894dcfb55f94b31\\artifacts\\model\\.'",
     "output_type": "error",
     "traceback": [
      "\u001b[1;31m---------------------------------------------------------------------------\u001b[0m",
      "\u001b[1;31mOSError\u001b[0m                                   Traceback (most recent call last)",
      "\u001b[1;32m~\\AppData\\Local\\Temp\\ipykernel_10452\\2314020490.py\u001b[0m in \u001b[0;36m<cell line: 1>\u001b[1;34m()\u001b[0m\n\u001b[1;32m----> 1\u001b[1;33m \u001b[0mmodel\u001b[0m \u001b[1;33m=\u001b[0m \u001b[0mmlflow\u001b[0m\u001b[1;33m.\u001b[0m\u001b[0mpyfunc\u001b[0m\u001b[1;33m.\u001b[0m\u001b[0mload_model\u001b[0m\u001b[1;33m(\u001b[0m\u001b[1;34mf\"models:/{model_name}/{stage}\"\u001b[0m\u001b[1;33m)\u001b[0m\u001b[1;33m\u001b[0m\u001b[1;33m\u001b[0m\u001b[0m\n\u001b[0m",
      "\u001b[1;32mc:\\Anaconda\\envs\\machine-learning-env\\lib\\site-packages\\mlflow\\pyfunc\\__init__.py\u001b[0m in \u001b[0;36mload_model\u001b[1;34m(model_uri, suppress_warnings, dst_path)\u001b[0m\n\u001b[0;32m    507\u001b[0m                      \u001b[0mpath\u001b[0m \u001b[0mwill\u001b[0m \u001b[0mbe\u001b[0m \u001b[0mcreated\u001b[0m\u001b[1;33m.\u001b[0m\u001b[1;33m\u001b[0m\u001b[1;33m\u001b[0m\u001b[0m\n\u001b[0;32m    508\u001b[0m     \"\"\"\n\u001b[1;32m--> 509\u001b[1;33m     \u001b[0mlocal_path\u001b[0m \u001b[1;33m=\u001b[0m \u001b[0m_download_artifact_from_uri\u001b[0m\u001b[1;33m(\u001b[0m\u001b[0martifact_uri\u001b[0m\u001b[1;33m=\u001b[0m\u001b[0mmodel_uri\u001b[0m\u001b[1;33m,\u001b[0m \u001b[0moutput_path\u001b[0m\u001b[1;33m=\u001b[0m\u001b[0mdst_path\u001b[0m\u001b[1;33m)\u001b[0m\u001b[1;33m\u001b[0m\u001b[1;33m\u001b[0m\u001b[0m\n\u001b[0m\u001b[0;32m    510\u001b[0m \u001b[1;33m\u001b[0m\u001b[0m\n\u001b[0;32m    511\u001b[0m     \u001b[1;32mif\u001b[0m \u001b[1;32mnot\u001b[0m \u001b[0msuppress_warnings\u001b[0m\u001b[1;33m:\u001b[0m\u001b[1;33m\u001b[0m\u001b[1;33m\u001b[0m\u001b[0m\n",
      "\u001b[1;32mc:\\Anaconda\\envs\\machine-learning-env\\lib\\site-packages\\mlflow\\tracking\\artifact_utils.py\u001b[0m in \u001b[0;36m_download_artifact_from_uri\u001b[1;34m(artifact_uri, output_path)\u001b[0m\n\u001b[0;32m     98\u001b[0m     \"\"\"\n\u001b[0;32m     99\u001b[0m     \u001b[0mroot_uri\u001b[0m\u001b[1;33m,\u001b[0m \u001b[0martifact_path\u001b[0m \u001b[1;33m=\u001b[0m \u001b[0m_get_root_uri_and_artifact_path\u001b[0m\u001b[1;33m(\u001b[0m\u001b[0martifact_uri\u001b[0m\u001b[1;33m)\u001b[0m\u001b[1;33m\u001b[0m\u001b[1;33m\u001b[0m\u001b[0m\n\u001b[1;32m--> 100\u001b[1;33m     return get_artifact_repository(artifact_uri=root_uri).download_artifacts(\n\u001b[0m\u001b[0;32m    101\u001b[0m         \u001b[0martifact_path\u001b[0m\u001b[1;33m=\u001b[0m\u001b[0martifact_path\u001b[0m\u001b[1;33m,\u001b[0m \u001b[0mdst_path\u001b[0m\u001b[1;33m=\u001b[0m\u001b[0moutput_path\u001b[0m\u001b[1;33m\u001b[0m\u001b[1;33m\u001b[0m\u001b[0m\n\u001b[0;32m    102\u001b[0m     )\n",
      "\u001b[1;32mc:\\Anaconda\\envs\\machine-learning-env\\lib\\site-packages\\mlflow\\store\\artifact\\models_artifact_repo.py\u001b[0m in \u001b[0;36mdownload_artifacts\u001b[1;34m(self, artifact_path, dst_path)\u001b[0m\n\u001b[0;32m    124\u001b[0m         \u001b[1;33m:\u001b[0m\u001b[1;32mreturn\u001b[0m\u001b[1;33m:\u001b[0m \u001b[0mAbsolute\u001b[0m \u001b[0mpath\u001b[0m \u001b[0mof\u001b[0m \u001b[0mthe\u001b[0m \u001b[0mlocal\u001b[0m \u001b[0mfilesystem\u001b[0m \u001b[0mlocation\u001b[0m \u001b[0mcontaining\u001b[0m \u001b[0mthe\u001b[0m \u001b[0mdesired\u001b[0m \u001b[0martifacts\u001b[0m\u001b[1;33m.\u001b[0m\u001b[1;33m\u001b[0m\u001b[1;33m\u001b[0m\u001b[0m\n\u001b[0;32m    125\u001b[0m         \"\"\"\n\u001b[1;32m--> 126\u001b[1;33m         \u001b[1;32mreturn\u001b[0m \u001b[0mself\u001b[0m\u001b[1;33m.\u001b[0m\u001b[0mrepo\u001b[0m\u001b[1;33m.\u001b[0m\u001b[0mdownload_artifacts\u001b[0m\u001b[1;33m(\u001b[0m\u001b[0martifact_path\u001b[0m\u001b[1;33m,\u001b[0m \u001b[0mdst_path\u001b[0m\u001b[1;33m)\u001b[0m\u001b[1;33m\u001b[0m\u001b[1;33m\u001b[0m\u001b[0m\n\u001b[0m\u001b[0;32m    127\u001b[0m \u001b[1;33m\u001b[0m\u001b[0m\n\u001b[0;32m    128\u001b[0m     \u001b[1;32mdef\u001b[0m \u001b[0m_download_file\u001b[0m\u001b[1;33m(\u001b[0m\u001b[0mself\u001b[0m\u001b[1;33m,\u001b[0m \u001b[0mremote_file_path\u001b[0m\u001b[1;33m,\u001b[0m \u001b[0mlocal_path\u001b[0m\u001b[1;33m)\u001b[0m\u001b[1;33m:\u001b[0m\u001b[1;33m\u001b[0m\u001b[1;33m\u001b[0m\u001b[0m\n",
      "\u001b[1;32mc:\\Anaconda\\envs\\machine-learning-env\\lib\\site-packages\\mlflow\\store\\artifact\\local_artifact_repo.py\u001b[0m in \u001b[0;36mdownload_artifacts\u001b[1;34m(self, artifact_path, dst_path)\u001b[0m\n\u001b[0;32m     77\u001b[0m         \u001b[0mlocal_artifact_path\u001b[0m \u001b[1;33m=\u001b[0m \u001b[0mos\u001b[0m\u001b[1;33m.\u001b[0m\u001b[0mpath\u001b[0m\u001b[1;33m.\u001b[0m\u001b[0mjoin\u001b[0m\u001b[1;33m(\u001b[0m\u001b[0mself\u001b[0m\u001b[1;33m.\u001b[0m\u001b[0martifact_dir\u001b[0m\u001b[1;33m,\u001b[0m \u001b[0mos\u001b[0m\u001b[1;33m.\u001b[0m\u001b[0mpath\u001b[0m\u001b[1;33m.\u001b[0m\u001b[0mnormpath\u001b[0m\u001b[1;33m(\u001b[0m\u001b[0martifact_path\u001b[0m\u001b[1;33m)\u001b[0m\u001b[1;33m)\u001b[0m\u001b[1;33m\u001b[0m\u001b[1;33m\u001b[0m\u001b[0m\n\u001b[0;32m     78\u001b[0m         \u001b[1;32mif\u001b[0m \u001b[1;32mnot\u001b[0m \u001b[0mos\u001b[0m\u001b[1;33m.\u001b[0m\u001b[0mpath\u001b[0m\u001b[1;33m.\u001b[0m\u001b[0mexists\u001b[0m\u001b[1;33m(\u001b[0m\u001b[0mlocal_artifact_path\u001b[0m\u001b[1;33m)\u001b[0m\u001b[1;33m:\u001b[0m\u001b[1;33m\u001b[0m\u001b[1;33m\u001b[0m\u001b[0m\n\u001b[1;32m---> 79\u001b[1;33m             \u001b[1;32mraise\u001b[0m \u001b[0mIOError\u001b[0m\u001b[1;33m(\u001b[0m\u001b[1;34m\"No such file or directory: '{}'\"\u001b[0m\u001b[1;33m.\u001b[0m\u001b[0mformat\u001b[0m\u001b[1;33m(\u001b[0m\u001b[0mlocal_artifact_path\u001b[0m\u001b[1;33m)\u001b[0m\u001b[1;33m)\u001b[0m\u001b[1;33m\u001b[0m\u001b[1;33m\u001b[0m\u001b[0m\n\u001b[0m\u001b[0;32m     80\u001b[0m         \u001b[1;32mreturn\u001b[0m \u001b[0mos\u001b[0m\u001b[1;33m.\u001b[0m\u001b[0mpath\u001b[0m\u001b[1;33m.\u001b[0m\u001b[0mabspath\u001b[0m\u001b[1;33m(\u001b[0m\u001b[0mlocal_artifact_path\u001b[0m\u001b[1;33m)\u001b[0m\u001b[1;33m\u001b[0m\u001b[1;33m\u001b[0m\u001b[0m\n\u001b[0;32m     81\u001b[0m \u001b[1;33m\u001b[0m\u001b[0m\n",
      "\u001b[1;31mOSError\u001b[0m: No such file or directory: '.\\mlruns\\2\\ff252e28434f45408894dcfb55f94b31\\artifacts\\model\\.'"
     ]
    }
   ],
   "source": [
    "model = mlflow.pyfunc.load_model(f\"models:/{model_name}/{stage}\")"
   ]
  },
  {
   "cell_type": "code",
   "execution_count": null,
   "metadata": {},
   "outputs": [],
   "source": []
  },
  {
   "cell_type": "code",
   "execution_count": null,
   "metadata": {},
   "outputs": [],
   "source": []
  },
  {
   "cell_type": "code",
   "execution_count": null,
   "metadata": {},
   "outputs": [],
   "source": []
  },
  {
   "cell_type": "code",
   "execution_count": null,
   "metadata": {},
   "outputs": [],
   "source": []
  },
  {
   "cell_type": "code",
   "execution_count": null,
   "metadata": {},
   "outputs": [],
   "source": []
  },
  {
   "cell_type": "code",
   "execution_count": null,
   "metadata": {},
   "outputs": [],
   "source": []
  },
  {
   "cell_type": "code",
   "execution_count": null,
   "metadata": {},
   "outputs": [],
   "source": []
  },
  {
   "cell_type": "code",
   "execution_count": null,
   "metadata": {},
   "outputs": [],
   "source": []
  },
  {
   "cell_type": "code",
   "execution_count": null,
   "metadata": {},
   "outputs": [],
   "source": []
  },
  {
   "cell_type": "code",
   "execution_count": null,
   "metadata": {},
   "outputs": [],
   "source": []
  },
  {
   "cell_type": "code",
   "execution_count": null,
   "metadata": {},
   "outputs": [],
   "source": []
  },
  {
   "cell_type": "code",
   "execution_count": null,
   "metadata": {},
   "outputs": [],
   "source": []
  },
  {
   "cell_type": "code",
   "execution_count": null,
   "metadata": {},
   "outputs": [],
   "source": []
  },
  {
   "cell_type": "code",
   "execution_count": null,
   "metadata": {},
   "outputs": [],
   "source": []
  }
 ],
 "metadata": {
  "kernelspec": {
   "display_name": "machine-learning-env",
   "language": "python",
   "name": "python3"
  },
  "language_info": {
   "codemirror_mode": {
    "name": "ipython",
    "version": 3
   },
   "file_extension": ".py",
   "mimetype": "text/x-python",
   "name": "python",
   "nbconvert_exporter": "python",
   "pygments_lexer": "ipython3",
   "version": "3.10.8"
  },
  "orig_nbformat": 4
 },
 "nbformat": 4,
 "nbformat_minor": 2
}
